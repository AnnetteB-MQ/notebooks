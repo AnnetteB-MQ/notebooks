{
 "cells": [
  {
   "cell_type": "markdown",
   "metadata": {},
   "source": [
    "## Item Asset Activation and Download\n",
    "In order to download imagery assets, they must first be activated. Once active, the asset may be downloaded using the provided link.\n",
    "\n",
    " * Full resolution uncompressed satellite images are big and there are lots of ways to view them.\n",
    " * For this reason Planet generally keeps images in their native format and only processes them on customer requests.\n",
    " * All images must be activated prior to downloading and this can take some time based on demand.\n",
    " * Generally speaking there are three kinds of scenes:\n",
    "    * Analytic - multi-band full resolution images that have not been processed. These are like raw files for DSLR camers.\n",
    "    * Visual - these are color corrected rectified tifs. If you are just starting out this is your best call.\n",
    "    * UDM - Usable data mask. This mask can be used to find bad pixels and columns and to mask out areas with clouds."
   ]
  },
  {
   "cell_type": "markdown",
   "metadata": {},
   "source": [
    "### Input Parameters "
   ]
  },
  {
   "cell_type": "code",
   "execution_count": null,
   "metadata": {
    "collapsed": true
   },
   "outputs": [],
   "source": [
    "from os import environ\n",
    "\n",
    "# Set API key (this should to be an environment variable)\n",
    "api_key = environ['PLANET_API_KEY']\n",
    "\n",
    "# Sent Scene ID\n",
    "scene_id = '20170604_180819_0f52'\n",
    "\n",
    "# Set Item Type\n",
    "item_type = 'PSScene4Band'\n",
    "\n",
    "# Set Asset Type\n",
    "asset_type = 'analytic'"
   ]
  },
  {
   "cell_type": "markdown",
   "metadata": {},
   "source": [
    "### Activate Item Assets provided above"
   ]
  },
  {
   "cell_type": "code",
   "execution_count": null,
   "metadata": {},
   "outputs": [],
   "source": [
    "from planet import api\n",
    "import time\n",
    "\n",
    "# Create Planet API client object\n",
    "client = api.ClientV1(api_key)\n",
    "\n",
    "# Activate the item asset (if nessesary) and wait for activation to complete\n",
    "asset_activated = False\n",
    "while asset_activated == False:\n",
    "    \n",
    "    # Get asset and its activation status\n",
    "    all_assets = client.get_assets_by_id(item_type, scene_id)  \n",
    "    asset = all_assets.get()[asset_type]\n",
    "    asset_status = asset[\"status\"]\n",
    "    \n",
    "    # If asset is already active, we are done\n",
    "    if asset_status == 'active':\n",
    "        asset_download_url = asset['location']\n",
    "        asset_activated = True\n",
    "        print(\"Asset is active and ready to download\")\n",
    "    \n",
    "    # If asset is inactive, we must send an activation request and wait for activation to complete\n",
    "    elif asset_status == 'inactive':\n",
    "        client.activate(asset)\n",
    "        print(\"Asset activation request sent. Waiting for activation.\")\n",
    "    \n",
    "    # Still activating. Wait 1 second and check again.\n",
    "    else:\n",
    "        print(\"...Still waiting for asset activation...\")\n",
    "        time.sleep(1)"
   ]
  },
  {
   "cell_type": "markdown",
   "metadata": {},
   "source": [
    "### Once Item is Active, it can be downloaded"
   ]
  },
  {
   "cell_type": "code",
   "execution_count": null,
   "metadata": {},
   "outputs": [],
   "source": [
    "out = client.download(asset)\n",
    "file_body = out.get_body()\n",
    "file_body.write('../data_storage/' + file_body.name)\n",
    "\n",
    "print('Asset ../data_storage/' + file_body.name + ' successfully downloaded.')"
   ]
  }
 ],
 "metadata": {
  "kernelspec": {
   "display_name": "Python 3",
   "language": "python",
   "name": "python3"
  },
  "language_info": {
   "codemirror_mode": {
    "name": "ipython",
    "version": 3.0
   },
   "file_extension": ".py",
   "mimetype": "text/x-python",
   "name": "python",
   "nbconvert_exporter": "python",
   "pygments_lexer": "ipython3",
   "version": "3.5.2"
  }
 },
 "nbformat": 4,
 "nbformat_minor": 0
}