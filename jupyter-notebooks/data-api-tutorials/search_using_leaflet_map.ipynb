{
 "cells": [
  {
   "cell_type": "markdown",
   "metadata": {},
   "source": [
    "# API Search Using a Leaflet Map\n",
    "Search the API for imagery over an AOI selected from a map."
   ]
  },
  {
   "cell_type": "markdown",
   "metadata": {},
   "source": [
    "### Input Parameters "
   ]
  },
  {
   "cell_type": "code",
   "execution_count": null,
   "metadata": {
    "collapsed": true,
    "scrolled": true
   },
   "outputs": [],
   "source": [
    "from os import environ\n",
    "\n",
    "# Set API key (this should to be an environment variable)\n",
    "api_key = environ['PLANET_API_KEY']\n",
    "\n",
    "# A list of the types you are interested in.\n",
    "item_types = ['PSScene3Band']\n",
    "\n",
    "# Set max cloud coverage to 5%\n",
    "max_cloud_coverage = .05\n",
    "\n",
    "# The AOI you are intersted in, in GeoJSON format (San Francisco)\n",
    "aoi_json = '''{\n",
    "    \"type\": \"Polygon\",\n",
    "        \"coordinates\": [\n",
    "          [\n",
    "            [\n",
    "              -122.53944396972656,\n",
    "              37.68979758086211\n",
    "            ],\n",
    "            [\n",
    "              -122.35507965087889,\n",
    "              37.68979758086211\n",
    "            ],\n",
    "            [\n",
    "              -122.35507965087889,\n",
    "              37.80924146650164\n",
    "            ],\n",
    "            [\n",
    "              -122.53944396972656,\n",
    "              37.80924146650164\n",
    "            ],\n",
    "            [\n",
    "              -122.53944396972656,\n",
    "              37.68979758086211\n",
    "            ]\n",
    "          ]\n",
    "        ]\n",
    "      }'''\n",
    "\n",
    "# How many seach items to return\n",
    "limit = 10"
   ]
  },
  {
   "cell_type": "markdown",
   "metadata": {},
   "source": [
    "### Render Map, and search after AOI is selected\n",
    "Render a map using ipyleaflet"
   ]
  },
  {
   "cell_type": "code",
   "execution_count": null,
   "metadata": {},
   "outputs": [],
   "source": [
    "import json\n",
    "from IPython.display import display, HTML\n",
    "import pandas\n",
    "from ipyleaflet import (\n",
    "    Map,\n",
    "    DrawControl\n",
    ")\n",
    "from planet import api\n",
    "\n",
    "# Search items after AOI is selected\n",
    "def handle_draw(self, action, geo_json):\n",
    "    \n",
    "    aoi = json.dumps(geo_json['geometry'])\n",
    "    \n",
    "    # Create client\n",
    "    client = api.ClientV1(api_key)\n",
    "\n",
    "    # Build a filter for the AOI\n",
    "    query = api.filters.and_filter(\n",
    "      api.filters.geom_filter(json.loads(aoi)),\n",
    "      api.filters.range_filter('cloud_cover', lt=.05)\n",
    "    )\n",
    "\n",
    "    # Build search request\n",
    "    request = api.filters.build_search_request(query, item_types)\n",
    "\n",
    "    # Perform search\n",
    "    items = client.quick_search(request)\n",
    "    \n",
    "    \n",
    "    scenes = []\n",
    "    for item in items.items_iter(limit=limit):\n",
    "        props = {}\n",
    "        props[\"id\"] = item['id']\n",
    "        props[\"acquired\"] = item['properties'][\"acquired\"]\n",
    "        props[\"cloud_cover\"] = item['properties'][\"cloud_cover\"]\n",
    "        props[\"geometry\"] = item[\"geometry\"]\n",
    "        props[\"thumbnail\"] = item[\"_links\"][\"thumbnail\"]\n",
    "        scenes.append(props)\n",
    "       \n",
    "    scenes_table = pandas.DataFrame(data=scenes)\n",
    "    display(scenes_table)\n",
    "\n",
    "# Render Map\n",
    "leaflet_map = Map(zoom=14, center=(10.4891, -67.9996))\n",
    "draw_controls =  DrawControl(\n",
    "    rectangle={'shapeOptions': {'color': '#0000FF'}},\n",
    "    polygon={'shapeOptions': {'color': '#0000FF'}},\n",
    "    polyline={},\n",
    "    circle={},\n",
    "    edit=False,\n",
    "    remove=False\n",
    ")\n",
    "\n",
    "draw_controls.on_draw(handle_draw)\n",
    "leaflet_map.add_control(draw_controls)\n",
    "leaflet_map"
   ]
  }
 ],
 "metadata": {
  "kernelspec": {
   "display_name": "Python 3",
   "language": "python",
   "name": "python3"
  },
  "language_info": {
   "codemirror_mode": {
    "name": "ipython",
    "version": 3.0
   },
   "file_extension": ".py",
   "mimetype": "text/x-python",
   "name": "python",
   "nbconvert_exporter": "python",
   "pygments_lexer": "ipython3",
   "version": "3.5.2"
  }
 },
 "nbformat": 4,
 "nbformat_minor": 0
}